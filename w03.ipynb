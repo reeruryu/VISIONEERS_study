{
  "nbformat": 4,
  "nbformat_minor": 0,
  "metadata": {
    "colab": {
      "name": "w03.ipynb",
      "provenance": [],
      "toc_visible": true,
      "authorship_tag": "ABX9TyPsSn4hD0ltLUWi3S0DuNkb",
      "include_colab_link": true
    },
    "kernelspec": {
      "name": "python3",
      "display_name": "Python 3"
    },
    "language_info": {
      "name": "python"
    }
  },
  "cells": [
    {
      "cell_type": "markdown",
      "metadata": {
        "id": "view-in-github",
        "colab_type": "text"
      },
      "source": [
        "<a href=\"https://colab.research.google.com/github/reeruryu/VISIONEERS_study/blob/main/w03.ipynb\" target=\"_parent\"><img src=\"https://colab.research.google.com/assets/colab-badge.svg\" alt=\"Open In Colab\"/></a>"
      ]
    },
    {
      "cell_type": "markdown",
      "source": [
        "분류\n",
        "\n",
        "\n"
      ],
      "metadata": {
        "id": "M7wNXrHwebli"
      }
    },
    {
      "cell_type": "markdown",
      "source": [
        "## **5.1 이항 분류**"
      ],
      "metadata": {
        "id": "kwAQk_HhgHl8"
      }
    },
    {
      "cell_type": "markdown",
      "source": [
        "reeruryu 깃허브에 웹 크롤링 공부했던 거 올려놨다 😎"
      ],
      "metadata": {
        "id": "BMWNo-Bvhpd8"
      }
    },
    {
      "cell_type": "code",
      "source": [
        "# 외부에서 와인 데이터셋 불러오기\n",
        "import pandas as pd\n",
        "red = pd.read_csv('http://archive.ics.uci.edu/ml/machine-learning-databases/wine-quality/winequality-red.csv', sep=\";\")\n",
        "white = pd.read_csv('http://archive.ics.uci.edu/ml/machine-learning-databases/wine-quality/winequality-white.csv', sep=';')\n",
        "print('red>>')\n",
        "print(red.head())\n",
        "print()\n",
        "print('white>>')\n",
        "print(white.head())"
      ],
      "metadata": {
        "colab": {
          "base_uri": "https://localhost:8080/"
        },
        "id": "wDFYqjfigZHT",
        "outputId": "b93b995e-a9a8-4ea3-f44d-67dc65d51d84"
      },
      "execution_count": 50,
      "outputs": [
        {
          "output_type": "stream",
          "name": "stdout",
          "text": [
            "red>>\n",
            "   fixed acidity  volatile acidity  citric acid  residual sugar  chlorides  \\\n",
            "0            7.4              0.70         0.00             1.9      0.076   \n",
            "1            7.8              0.88         0.00             2.6      0.098   \n",
            "2            7.8              0.76         0.04             2.3      0.092   \n",
            "3           11.2              0.28         0.56             1.9      0.075   \n",
            "4            7.4              0.70         0.00             1.9      0.076   \n",
            "\n",
            "   free sulfur dioxide  total sulfur dioxide  density    pH  sulphates  \\\n",
            "0                 11.0                  34.0   0.9978  3.51       0.56   \n",
            "1                 25.0                  67.0   0.9968  3.20       0.68   \n",
            "2                 15.0                  54.0   0.9970  3.26       0.65   \n",
            "3                 17.0                  60.0   0.9980  3.16       0.58   \n",
            "4                 11.0                  34.0   0.9978  3.51       0.56   \n",
            "\n",
            "   alcohol  quality  \n",
            "0      9.4        5  \n",
            "1      9.8        5  \n",
            "2      9.8        5  \n",
            "3      9.8        6  \n",
            "4      9.4        5  \n",
            "\n",
            "white>>\n",
            "   fixed acidity  volatile acidity  citric acid  residual sugar  chlorides  \\\n",
            "0            7.0              0.27         0.36            20.7      0.045   \n",
            "1            6.3              0.30         0.34             1.6      0.049   \n",
            "2            8.1              0.28         0.40             6.9      0.050   \n",
            "3            7.2              0.23         0.32             8.5      0.058   \n",
            "4            7.2              0.23         0.32             8.5      0.058   \n",
            "\n",
            "   free sulfur dioxide  total sulfur dioxide  density    pH  sulphates  \\\n",
            "0                 45.0                 170.0   1.0010  3.00       0.45   \n",
            "1                 14.0                 132.0   0.9940  3.30       0.49   \n",
            "2                 30.0                  97.0   0.9951  3.26       0.44   \n",
            "3                 47.0                 186.0   0.9956  3.19       0.40   \n",
            "4                 47.0                 186.0   0.9956  3.19       0.40   \n",
            "\n",
            "   alcohol  quality  \n",
            "0      8.8        6  \n",
            "1      9.5        6  \n",
            "2     10.1        6  \n",
            "3      9.9        6  \n",
            "4      9.9        6  \n"
          ]
        }
      ]
    },
    {
      "cell_type": "code",
      "source": [
        "# 와인 데이터셋 합치기\n",
        "red['type']=0 # 레드 와인 0\n",
        "white['type']=1 # 화이트 와인 1\n",
        "\n",
        "print(red.head(2))\n",
        "print(white.head(2))\n",
        "\n",
        "wine=pd.concat([red, white])\n",
        "print(wine.describe())"
      ],
      "metadata": {
        "colab": {
          "base_uri": "https://localhost:8080/"
        },
        "id": "zctZrFlSjD9o",
        "outputId": "bf7457c9-2de6-412c-e52c-5703494b827d"
      },
      "execution_count": 51,
      "outputs": [
        {
          "output_type": "stream",
          "name": "stdout",
          "text": [
            "   fixed acidity  volatile acidity  citric acid  residual sugar  chlorides  \\\n",
            "0            7.4              0.70          0.0             1.9      0.076   \n",
            "1            7.8              0.88          0.0             2.6      0.098   \n",
            "\n",
            "   free sulfur dioxide  total sulfur dioxide  density    pH  sulphates  \\\n",
            "0                 11.0                  34.0   0.9978  3.51       0.56   \n",
            "1                 25.0                  67.0   0.9968  3.20       0.68   \n",
            "\n",
            "   alcohol  quality  type  \n",
            "0      9.4        5     0  \n",
            "1      9.8        5     0  \n",
            "   fixed acidity  volatile acidity  citric acid  residual sugar  chlorides  \\\n",
            "0            7.0              0.27         0.36            20.7      0.045   \n",
            "1            6.3              0.30         0.34             1.6      0.049   \n",
            "\n",
            "   free sulfur dioxide  total sulfur dioxide  density   pH  sulphates  \\\n",
            "0                 45.0                 170.0    1.001  3.0       0.45   \n",
            "1                 14.0                 132.0    0.994  3.3       0.49   \n",
            "\n",
            "   alcohol  quality  type  \n",
            "0      8.8        6     1  \n",
            "1      9.5        6     1  \n",
            "       fixed acidity  volatile acidity  citric acid  residual sugar  \\\n",
            "count    6497.000000       6497.000000  6497.000000     6497.000000   \n",
            "mean        7.215307          0.339666     0.318633        5.443235   \n",
            "std         1.296434          0.164636     0.145318        4.757804   \n",
            "min         3.800000          0.080000     0.000000        0.600000   \n",
            "25%         6.400000          0.230000     0.250000        1.800000   \n",
            "50%         7.000000          0.290000     0.310000        3.000000   \n",
            "75%         7.700000          0.400000     0.390000        8.100000   \n",
            "max        15.900000          1.580000     1.660000       65.800000   \n",
            "\n",
            "         chlorides  free sulfur dioxide  total sulfur dioxide      density  \\\n",
            "count  6497.000000          6497.000000           6497.000000  6497.000000   \n",
            "mean      0.056034            30.525319            115.744574     0.994697   \n",
            "std       0.035034            17.749400             56.521855     0.002999   \n",
            "min       0.009000             1.000000              6.000000     0.987110   \n",
            "25%       0.038000            17.000000             77.000000     0.992340   \n",
            "50%       0.047000            29.000000            118.000000     0.994890   \n",
            "75%       0.065000            41.000000            156.000000     0.996990   \n",
            "max       0.611000           289.000000            440.000000     1.038980   \n",
            "\n",
            "                pH    sulphates      alcohol      quality         type  \n",
            "count  6497.000000  6497.000000  6497.000000  6497.000000  6497.000000  \n",
            "mean      3.218501     0.531268    10.491801     5.818378     0.753886  \n",
            "std       0.160787     0.148806     1.192712     0.873255     0.430779  \n",
            "min       2.720000     0.220000     8.000000     3.000000     0.000000  \n",
            "25%       3.110000     0.430000     9.500000     5.000000     1.000000  \n",
            "50%       3.210000     0.510000    10.300000     6.000000     1.000000  \n",
            "75%       3.320000     0.600000    11.300000     6.000000     1.000000  \n",
            "max       4.010000     2.000000    14.900000     9.000000     1.000000  \n"
          ]
        }
      ]
    },
    {
      "cell_type": "markdown",
      "source": [
        "mean이 약 0.75고 퍼센트를 보면 1이 더 많다는 걸 지레짐작 가능하다"
      ],
      "metadata": {
        "id": "3TI0VXPOh2Sc"
      }
    },
    {
      "cell_type": "code",
      "source": [
        "# 레드 와인, 화이트 와인 type 히스토그램\n",
        "import matplotlib.pyplot as plt\n",
        "plt.hist(wine['type'])\n",
        "plt.xticks([0, 1])\n",
        "plt.show()\n",
        "\n",
        "print(wine['type'].value_counts())"
      ],
      "metadata": {
        "colab": {
          "base_uri": "https://localhost:8080/",
          "height": 320
        },
        "id": "emRuMMyZmInJ",
        "outputId": "65a5206c-0ee1-4690-fcac-ef5ad664d08b"
      },
      "execution_count": 6,
      "outputs": [
        {
          "output_type": "display_data",
          "data": {
            "text/plain": [
              "<Figure size 432x288 with 1 Axes>"
            ],
            "image/png": "[encoded data removed]"
          },
          "metadata": {
            "needs_background": "light"
          }
        },
        {
          "output_type": "stream",
          "name": "stdout",
          "text": [
            "1    4898\n",
            "0    1599\n",
            "Name: type, dtype: int64\n"
          ]
        }
      ]
    },
    {
      "cell_type": "code",
      "source": [
        "# 데이터 요약 정보 확인\n",
        "print(wine.info())"
      ],
      "metadata": {
        "colab": {
          "base_uri": "https://localhost:8080/"
        },
        "id": "JlqpBj-dmdi5",
        "outputId": "d6ac92f0-0bc8-47cf-97d0-c5a2552359d8"
      },
      "execution_count": 8,
      "outputs": [
        {
          "output_type": "stream",
          "name": "stdout",
          "text": [
            "data pa-ak>>\n",
            "<class 'pandas.core.frame.DataFrame'>\n",
            "Int64Index: 6497 entries, 0 to 4897\n",
            "Data columns (total 13 columns):\n",
            " #   Column                Non-Null Count  Dtype  \n",
            "---  ------                --------------  -----  \n",
            " 0   fixed acidity         6497 non-null   float64\n",
            " 1   volatile acidity      6497 non-null   float64\n",
            " 2   citric acid           6497 non-null   float64\n",
            " 3   residual sugar        6497 non-null   float64\n",
            " 4   chlorides             6497 non-null   float64\n",
            " 5   free sulfur dioxide   6497 non-null   float64\n",
            " 6   total sulfur dioxide  6497 non-null   float64\n",
            " 7   density               6497 non-null   float64\n",
            " 8   pH                    6497 non-null   float64\n",
            " 9   sulphates             6497 non-null   float64\n",
            " 10  alcohol               6497 non-null   float64\n",
            " 11  quality               6497 non-null   int64  \n",
            " 12  type                  6497 non-null   int64  \n",
            "dtypes: float64(11), int64(2)\n",
            "memory usage: 710.6 KB\n",
            "None\n"
          ]
        }
      ]
    },
    {
      "cell_type": "markdown",
      "source": [
        "⛄ 최소-최대 정규화\n",
        "\n",
        ">데이터를 정규화하는 가장 일반적인 방법\n",
        "\n",
        "\n",
        ">모든 feature에 대해 각각의 최소값 0 최대값 1로\n",
        "\n",
        "\n",
        ">다른 값들은 0과 1 사이의 값으로 변환\n",
        "\n",
        "> X-min/max-min\n",
        "\n"
      ],
      "metadata": {
        "id": "Kxu1BGdgqbva"
      }
    },
    {
      "cell_type": "code",
      "source": [
        "# 데이터 정규화\n",
        "wine_norm = (wine - wine.min()) / (wine.max()-wine.min())\n",
        "print(wine_norm.head())\n",
        "print(wine_norm.describe())"
      ],
      "metadata": {
        "colab": {
          "base_uri": "https://localhost:8080/"
        },
        "id": "OBMITHp2njGx",
        "outputId": "36e0d86c-a73e-429b-dd39-03b56b02678a"
      },
      "execution_count": 9,
      "outputs": [
        {
          "output_type": "stream",
          "name": "stdout",
          "text": [
            "   fixed acidity  volatile acidity  citric acid  residual sugar  chlorides  \\\n",
            "0       0.297521          0.413333     0.000000        0.019939   0.111296   \n",
            "1       0.330579          0.533333     0.000000        0.030675   0.147841   \n",
            "2       0.330579          0.453333     0.024096        0.026074   0.137874   \n",
            "3       0.611570          0.133333     0.337349        0.019939   0.109635   \n",
            "4       0.297521          0.413333     0.000000        0.019939   0.111296   \n",
            "\n",
            "   free sulfur dioxide  total sulfur dioxide   density        pH  sulphates  \\\n",
            "0             0.034722              0.064516  0.206092  0.612403   0.191011   \n",
            "1             0.083333              0.140553  0.186813  0.372093   0.258427   \n",
            "2             0.048611              0.110599  0.190669  0.418605   0.241573   \n",
            "3             0.055556              0.124424  0.209948  0.341085   0.202247   \n",
            "4             0.034722              0.064516  0.206092  0.612403   0.191011   \n",
            "\n",
            "    alcohol   quality  type  \n",
            "0  0.202899  0.333333   0.0  \n",
            "1  0.260870  0.333333   0.0  \n",
            "2  0.260870  0.333333   0.0  \n",
            "3  0.260870  0.500000   0.0  \n",
            "4  0.202899  0.333333   0.0  \n",
            "       fixed acidity  volatile acidity  citric acid  residual sugar  \\\n",
            "count    6497.000000       6497.000000  6497.000000     6497.000000   \n",
            "mean        0.282257          0.173111     0.191948        0.074283   \n",
            "std         0.107143          0.109758     0.087541        0.072972   \n",
            "min         0.000000          0.000000     0.000000        0.000000   \n",
            "25%         0.214876          0.100000     0.150602        0.018405   \n",
            "50%         0.264463          0.140000     0.186747        0.036810   \n",
            "75%         0.322314          0.213333     0.234940        0.115031   \n",
            "max         1.000000          1.000000     1.000000        1.000000   \n",
            "\n",
            "         chlorides  free sulfur dioxide  total sulfur dioxide      density  \\\n",
            "count  6497.000000          6497.000000           6497.000000  6497.000000   \n",
            "mean      0.078129             0.102518              0.252868     0.146262   \n",
            "std       0.058195             0.061630              0.130235     0.057811   \n",
            "min       0.000000             0.000000              0.000000     0.000000   \n",
            "25%       0.048173             0.055556              0.163594     0.100829   \n",
            "50%       0.063123             0.097222              0.258065     0.149990   \n",
            "75%       0.093023             0.138889              0.345622     0.190476   \n",
            "max       1.000000             1.000000              1.000000     1.000000   \n",
            "\n",
            "                pH    sulphates      alcohol      quality         type  \n",
            "count  6497.000000  6497.000000  6497.000000  6497.000000  6497.000000  \n",
            "mean      0.386435     0.174870     0.361131     0.469730     0.753886  \n",
            "std       0.124641     0.083599     0.172857     0.145543     0.430779  \n",
            "min       0.000000     0.000000     0.000000     0.000000     0.000000  \n",
            "25%       0.302326     0.117978     0.217391     0.333333     1.000000  \n",
            "50%       0.379845     0.162921     0.333333     0.500000     1.000000  \n",
            "75%       0.465116     0.213483     0.478261     0.500000     1.000000  \n",
            "max       1.000000     1.000000     1.000000     1.000000     1.000000  \n"
          ]
        }
      ]
    },
    {
      "cell_type": "code",
      "source": [
        "# 데이터를 섞은 후 넘파이 array로 변환\n",
        "import numpy as np\n",
        "wine_shuffle = wine_norm.sample(frac=1) # frac=1 100% 비율 행을 랜덤하게 뽑음\n",
        "print(wine_shuffle.head()) # 1 1 1 0 1 ..\n",
        "wine_np = wine_shuffle.to_numpy() # 데이터프레임 -> numpy array\n",
        "print(wine_np[:5])"
      ],
      "metadata": {
        "colab": {
          "base_uri": "https://localhost:8080/"
        },
        "id": "4y5jUQXrsSMj",
        "outputId": "b882ae02-18ab-494e-9edf-36e0fab5269c"
      },
      "execution_count": 10,
      "outputs": [
        {
          "output_type": "stream",
          "name": "stdout",
          "text": [
            "      fixed acidity  volatile acidity  citric acid  residual sugar  chlorides  \\\n",
            "544        0.247934          0.133333     0.102410        0.203988   0.063123   \n",
            "11         0.396694          0.100000     0.240964        0.055215   0.043189   \n",
            "3497       0.322314          0.233333     0.602410        0.296779   0.038206   \n",
            "1451       0.330579          0.160000     0.265060        0.032209   0.157807   \n",
            "3935       0.264463          0.253333     0.120482        0.246933   0.061462   \n",
            "\n",
            "      free sulfur dioxide  total sulfur dioxide   density        pH  \\\n",
            "544              0.166667              0.359447  0.215732  0.379845   \n",
            "11               0.055556              0.237327  0.146327  0.325581   \n",
            "3497             0.142361              0.364055  0.198766  0.441860   \n",
            "1451             0.024306              0.025346  0.196838  0.472868   \n",
            "3935             0.170139              0.410138  0.228841  0.279070   \n",
            "\n",
            "      sulphates   alcohol   quality  type  \n",
            "544    0.162921  0.144928  0.500000   1.0  \n",
            "11     0.174157  0.246377  0.333333   1.0  \n",
            "3497   0.157303  0.579710  0.500000   1.0  \n",
            "1451   0.314607  0.434783  0.666667   0.0  \n",
            "3935   0.191011  0.202899  0.333333   1.0  \n",
            "[[0.24793388 0.13333333 0.10240964 0.20398773 0.06312292 0.16666667\n",
            "  0.359447   0.21573164 0.37984496 0.16292135 0.14492754 0.5\n",
            "  1.        ]\n",
            " [0.39669421 0.1        0.24096386 0.05521472 0.04318937 0.05555556\n",
            "  0.23732719 0.14632736 0.3255814  0.1741573  0.24637681 0.33333333\n",
            "  1.        ]\n",
            " [0.32231405 0.23333333 0.60240964 0.29677914 0.03820598 0.14236111\n",
            "  0.3640553  0.19876615 0.44186047 0.15730337 0.57971014 0.5\n",
            "  1.        ]\n",
            " [0.33057851 0.16       0.26506024 0.03220859 0.15780731 0.02430556\n",
            "  0.02534562 0.19683825 0.47286822 0.31460674 0.43478261 0.66666667\n",
            "  0.        ]\n",
            " [0.26446281 0.25333333 0.12048193 0.24693252 0.06146179 0.17013889\n",
            "  0.41013825 0.22884133 0.27906977 0.19101124 0.20289855 0.33333333\n",
            "  1.        ]]\n"
          ]
        }
      ]
    },
    {
      "cell_type": "code",
      "source": [
        "import tensorflow as tf\n",
        "train_idx = int(len(wine_np) * 0.8) # 4:1\n",
        "train_X , train_Y = wine_np[:train_idx, :-1], wine_np[:train_idx, -1]\n",
        "test_X, test_Y = wine_np[train_idx:,:-1], wine_np[train_idx:, -1]\n",
        "print(train_X[0])\n",
        "print(train_Y[0])\n",
        "print(test_X[0])\n",
        "print(test_Y[0])\n",
        "train_Y = tf.keras.utils.to_categorical(train_Y, num_classes=2)\n",
        "test_Y = tf.keras.utils.to_categorical(test_Y, num_classes=2)\n",
        "print(train_Y[0])\n",
        "print(test_Y[0])"
      ],
      "metadata": {
        "colab": {
          "base_uri": "https://localhost:8080/"
        },
        "id": "DvBYam6Nt4R5",
        "outputId": "6b162705-d770-4fed-8395-4a45cb90af04"
      },
      "execution_count": 11,
      "outputs": [
        {
          "output_type": "stream",
          "name": "stdout",
          "text": [
            "[0.24793388 0.13333333 0.10240964 0.20398773 0.06312292 0.16666667\n",
            " 0.359447   0.21573164 0.37984496 0.16292135 0.14492754 0.5       ]\n",
            "1.0\n",
            "[0.2892562  0.16       0.20481928 0.09202454 0.03820598 0.07986111\n",
            " 0.24423963 0.153075   0.3875969  0.13483146 0.26086957 0.5       ]\n",
            "1.0\n",
            "[0. 1.]\n",
            "[0. 1.]\n"
          ]
        }
      ]
    },
    {
      "cell_type": "markdown",
      "source": [
        "to_categorical 함수로 정답의 인코딩 방식을 바꾼 결과\n",
        "\n",
        "0.0 -> [1. 0.], 1.0 -> [0. 1.]"
      ],
      "metadata": {
        "id": "xt2-sm1r1oPk"
      }
    },
    {
      "cell_type": "markdown",
      "source": [
        "⛄ softmax\n",
        "\n",
        "\n",
        "> 3개 이상으로 분류하는 다중 클래스 분류에서 사용되는 활성화 함수\n",
        "\n",
        "\n",
        "\n",
        "> 분류될 클래스가 n개라 할 때, n차원의 벡터를 입력받아, 각 클래스에 속할 확률 추정\n",
        "\n",
        "\n",
        "> 큰 값 강조, 작은 값 약화하는 효과\n",
        "\n",
        "\n",
        "\n",
        "\n",
        "\n"
      ],
      "metadata": {
        "id": "OnNCFAFA4SxP"
      }
    },
    {
      "cell_type": "code",
      "source": [
        "import tensorflow as tf\n",
        "model = tf.keras.Sequential([\n",
        "    tf.keras.layers.Dense(units=48, activation='relu', input_shape=(12,)),\n",
        "    tf.keras.layers.Dense(units=24, activation='relu'),\n",
        "    tf.keras.layers.Dense(units=12, activation='relu'),                  \n",
        "    tf.keras.layers.Dense(units=2, activation='softmax')\n",
        "]) # 분류 모델이기 때무네 마지막 레이어의 활성화 함수로 softmax 사용\n",
        "\n",
        "model.compile(optimizer=tf.keras.optimizers.Adam(learning_rate=0.07), loss='categorical_crossentropy',\n",
        "              metrics=['accuracy'])\n",
        "\n",
        "model.summary()"
      ],
      "metadata": {
        "colab": {
          "base_uri": "https://localhost:8080/"
        },
        "id": "WlSoLGWG14ue",
        "outputId": "dd830bf9-f0db-4af8-9690-fb980181c705"
      },
      "execution_count": 32,
      "outputs": [
        {
          "output_type": "stream",
          "name": "stdout",
          "text": [
            "Model: \"sequential_4\"\n",
            "_________________________________________________________________\n",
            " Layer (type)                Output Shape              Param #   \n",
            "=================================================================\n",
            " dense_16 (Dense)            (None, 48)                624       \n",
            "                                                                 \n",
            " dense_17 (Dense)            (None, 24)                1176      \n",
            "                                                                 \n",
            " dense_18 (Dense)            (None, 12)                300       \n",
            "                                                                 \n",
            " dense_19 (Dense)            (None, 2)                 26        \n",
            "                                                                 \n",
            "=================================================================\n",
            "Total params: 2,126\n",
            "Trainable params: 2,126\n",
            "Non-trainable params: 0\n",
            "_________________________________________________________________\n"
          ]
        }
      ]
    },
    {
      "cell_type": "code",
      "source": [
        "# 와인 데이터셋에 대한 분류 모델 학습\n",
        "history = model.fit(train_X, train_Y, epochs=25, batch_size = 32, validation_split=0.25)"
      ],
      "metadata": {
        "colab": {
          "base_uri": "https://localhost:8080/"
        },
        "id": "XIGpJjnp6m3p",
        "outputId": "b5b339fb-063c-48f1-c690-22de227f145f"
      },
      "execution_count": 33,
      "outputs": [
        {
          "output_type": "stream",
          "name": "stdout",
          "text": [
            "Epoch 1/25\n",
            "122/122 [==============================] - 1s 4ms/step - loss: 0.1231 - accuracy: 0.9554 - val_loss: 0.0820 - val_accuracy: 0.9677\n",
            "Epoch 2/25\n",
            "122/122 [==============================] - 0s 3ms/step - loss: 0.0591 - accuracy: 0.9828 - val_loss: 0.0649 - val_accuracy: 0.9823\n",
            "Epoch 3/25\n",
            "122/122 [==============================] - 0s 3ms/step - loss: 0.0584 - accuracy: 0.9846 - val_loss: 0.0573 - val_accuracy: 0.9831\n",
            "Epoch 4/25\n",
            "122/122 [==============================] - 0s 3ms/step - loss: 0.0482 - accuracy: 0.9864 - val_loss: 0.0580 - val_accuracy: 0.9838\n",
            "Epoch 5/25\n",
            "122/122 [==============================] - 0s 3ms/step - loss: 0.0582 - accuracy: 0.9828 - val_loss: 0.0531 - val_accuracy: 0.9869\n",
            "Epoch 6/25\n",
            "122/122 [==============================] - 0s 3ms/step - loss: 0.0438 - accuracy: 0.9869 - val_loss: 0.0406 - val_accuracy: 0.9877\n",
            "Epoch 7/25\n",
            "122/122 [==============================] - 0s 3ms/step - loss: 0.0440 - accuracy: 0.9869 - val_loss: 0.0393 - val_accuracy: 0.9877\n",
            "Epoch 8/25\n",
            "122/122 [==============================] - 0s 2ms/step - loss: 0.0366 - accuracy: 0.9902 - val_loss: 0.0374 - val_accuracy: 0.9892\n",
            "Epoch 9/25\n",
            "122/122 [==============================] - 0s 2ms/step - loss: 0.0402 - accuracy: 0.9877 - val_loss: 0.0586 - val_accuracy: 0.9854\n",
            "Epoch 10/25\n",
            "122/122 [==============================] - 0s 2ms/step - loss: 0.0373 - accuracy: 0.9900 - val_loss: 0.0580 - val_accuracy: 0.9862\n",
            "Epoch 11/25\n",
            "122/122 [==============================] - 0s 3ms/step - loss: 0.0338 - accuracy: 0.9920 - val_loss: 0.0461 - val_accuracy: 0.9885\n",
            "Epoch 12/25\n",
            "122/122 [==============================] - 0s 3ms/step - loss: 0.0392 - accuracy: 0.9910 - val_loss: 0.0558 - val_accuracy: 0.9838\n",
            "Epoch 13/25\n",
            "122/122 [==============================] - 0s 3ms/step - loss: 0.0313 - accuracy: 0.9928 - val_loss: 0.0482 - val_accuracy: 0.9885\n",
            "Epoch 14/25\n",
            "122/122 [==============================] - 0s 3ms/step - loss: 0.0287 - accuracy: 0.9933 - val_loss: 0.0367 - val_accuracy: 0.9885\n",
            "Epoch 15/25\n",
            "122/122 [==============================] - 0s 2ms/step - loss: 0.0314 - accuracy: 0.9926 - val_loss: 0.0332 - val_accuracy: 0.9885\n",
            "Epoch 16/25\n",
            "122/122 [==============================] - 0s 3ms/step - loss: 0.0329 - accuracy: 0.9918 - val_loss: 0.0358 - val_accuracy: 0.9900\n",
            "Epoch 17/25\n",
            "122/122 [==============================] - 0s 2ms/step - loss: 0.0273 - accuracy: 0.9928 - val_loss: 0.0348 - val_accuracy: 0.9900\n",
            "Epoch 18/25\n",
            "122/122 [==============================] - 0s 3ms/step - loss: 0.0712 - accuracy: 0.9810 - val_loss: 0.0720 - val_accuracy: 0.9769\n",
            "Epoch 19/25\n",
            "122/122 [==============================] - 0s 2ms/step - loss: 0.0400 - accuracy: 0.9910 - val_loss: 0.0410 - val_accuracy: 0.9885\n",
            "Epoch 20/25\n",
            "122/122 [==============================] - 0s 2ms/step - loss: 0.0293 - accuracy: 0.9920 - val_loss: 0.0373 - val_accuracy: 0.9877\n",
            "Epoch 21/25\n",
            "122/122 [==============================] - 0s 2ms/step - loss: 0.0351 - accuracy: 0.9908 - val_loss: 0.0461 - val_accuracy: 0.9885\n",
            "Epoch 22/25\n",
            "122/122 [==============================] - 0s 2ms/step - loss: 0.0275 - accuracy: 0.9944 - val_loss: 0.0337 - val_accuracy: 0.9900\n",
            "Epoch 23/25\n",
            "122/122 [==============================] - 0s 2ms/step - loss: 0.0343 - accuracy: 0.9915 - val_loss: 0.0416 - val_accuracy: 0.9892\n",
            "Epoch 24/25\n",
            "122/122 [==============================] - 0s 2ms/step - loss: 0.0350 - accuracy: 0.9920 - val_loss: 0.0405 - val_accuracy: 0.9900\n",
            "Epoch 25/25\n",
            "122/122 [==============================] - 0s 3ms/step - loss: 0.0332 - accuracy: 0.9923 - val_loss: 0.0373 - val_accuracy: 0.9885\n"
          ]
        }
      ]
    },
    {
      "cell_type": "code",
      "source": [
        "# 분류 모델의 학습 결과 시각화\n",
        "import matplotlib.pyplot as plt\n",
        "plt.figure(figsize=(12, 4))\n",
        "\n",
        "plt.subplot(1, 2, 1)\n",
        "plt.plot(history.history['loss'], 'b-', label='loss')\n",
        "plt.plot(history.history['val_loss'], 'r--', label='val_loss')\n",
        "plt.xlabel('Epoch')\n",
        "plt.legend()\n",
        "\n",
        "plt.subplot(1, 2, 2)\n",
        "plt.plot(history.history['accuracy'], 'g-', label='accuracy')\n",
        "plt.plot(history.history['val_accuracy'], 'k--', label='val_accuracy')\n",
        "plt.xlabel('Epoch')\n",
        "plt.ylim(0.85, 1)\n",
        "plt.legend()\n",
        "\n",
        "plt.show()"
      ],
      "metadata": {
        "colab": {
          "base_uri": "https://localhost:8080/",
          "height": 283
        },
        "id": "lNEBnvsi9CU6",
        "outputId": "32f7136f-f3fc-413f-f83e-4c7fdb435c00"
      },
      "execution_count": 35,
      "outputs": [
        {
          "output_type": "display_data",
          "data": {
            "text/plain": [
              "<Figure size 864x288 with 2 Axes>"
            ],
            "image/png": "[encoded data removed]"
          },
          "metadata": {
            "needs_background": "light"
          }
        }
      ]
    },
    {
      "cell_type": "code",
      "source": [
        "# 분류 모델 평가\n",
        "model.evaluate(test_X, test_Y)"
      ],
      "metadata": {
        "colab": {
          "base_uri": "https://localhost:8080/"
        },
        "id": "UgJwyIBP_M6u",
        "outputId": "befd7492-ec1b-43f8-a5f6-ed2613706b8a"
      },
      "execution_count": 36,
      "outputs": [
        {
          "output_type": "stream",
          "name": "stdout",
          "text": [
            "41/41 [==============================] - 0s 2ms/step - loss: 0.0285 - accuracy: 0.9938\n"
          ]
        },
        {
          "output_type": "execute_result",
          "data": {
            "text/plain": [
              "[0.028514031320810318, 0.9938461780548096]"
            ]
          },
          "metadata": {},
          "execution_count": 36
        }
      ]
    },
    {
      "cell_type": "markdown",
      "source": [
        "정확도 99.38%로 레드 와인과 화이트 와인을 분류하였다~"
      ],
      "metadata": {
        "id": "4p0E_UHq_ZAU"
      }
    },
    {
      "cell_type": "markdown",
      "source": [
        "## **5.2 다항 분류**"
      ],
      "metadata": {
        "id": "_1rRB1X8_Yuu"
      }
    },
    {
      "cell_type": "markdown",
      "source": [
        "다항 분류란 범주 수가 2개 초과할 경우 ..\n",
        "\n",
        "아까 와인 데이터셋에서 Y를 색깔 대신 품질로 예측해보겠다"
      ],
      "metadata": {
        "id": "qoe8jppZASSS"
      }
    },
    {
      "cell_type": "code",
      "source": [
        "# 품질 데이터 확인\n",
        "print(wine['quality'].describe())\n",
        "print(wine['quality'].value_counts())"
      ],
      "metadata": {
        "colab": {
          "base_uri": "https://localhost:8080/"
        },
        "id": "4rVkxW8IAtw2",
        "outputId": "e4b50e15-586b-4b59-e61e-e6db64ea9a1a"
      },
      "execution_count": 52,
      "outputs": [
        {
          "output_type": "stream",
          "name": "stdout",
          "text": [
            "count    6497.000000\n",
            "mean        5.818378\n",
            "std         0.873255\n",
            "min         3.000000\n",
            "25%         5.000000\n",
            "50%         6.000000\n",
            "75%         6.000000\n",
            "max         9.000000\n",
            "Name: quality, dtype: float64\n",
            "6    2836\n",
            "5    2138\n",
            "7    1079\n",
            "4     216\n",
            "8     193\n",
            "3      30\n",
            "9       5\n",
            "Name: quality, dtype: int64\n"
          ]
        }
      ]
    },
    {
      "cell_type": "code",
      "source": [
        "# 품질 히스토그램 시각화\n",
        "import matplotlib.pyplot as plt\n",
        "plt.hist(wine['quality'], bins=7, rwidth=0.8)\n",
        "plt.show()"
      ],
      "metadata": {
        "colab": {
          "base_uri": "https://localhost:8080/",
          "height": 265
        },
        "id": "p6RTq16DAReT",
        "outputId": "e716c12d-5604-4ba6-b8f3-98ec3f993814"
      },
      "execution_count": 38,
      "outputs": [
        {
          "output_type": "display_data",
          "data": {
            "text/plain": [
              "<Figure size 432x288 with 1 Axes>"
            ],
            "image/png": "[encoded data removed]"
          },
          "metadata": {
            "needs_background": "light"
          }
        }
      ]
    },
    {
      "cell_type": "markdown",
      "source": [
        "데이터의 양이 작고 범주의 수가 너무 많은데다가\n",
        "\n",
        "각 데이터의 숫자가 차이 나서..\n",
        "\n",
        "3-5 나쁨, 6 보통, 7-9 좋음으로 재분류를 하겠다"
      ],
      "metadata": {
        "id": "B-8cOcC-B3SD"
      }
    },
    {
      "cell_type": "code",
      "source": [
        "# 품질을 3개의 범주로 재분류\n",
        "wine.loc[wine['quality']<=5, 'new_quality']=0 # new_quality라는 속성을 만드러서 넣어주자\n",
        "wine.loc[wine['quality']==6, 'new_quality']=1\n",
        "wine.loc[wine['quality']>=7, 'new_quality']=2\n",
        "\n",
        "print(wine['new_quality'].describe())\n",
        "print(wine['new_quality'].value_counts())"
      ],
      "metadata": {
        "colab": {
          "base_uri": "https://localhost:8080/"
        },
        "id": "xZfMY1l9ARyS",
        "outputId": "9c186705-4477-456c-a8d1-3e5ab3cde5ac"
      },
      "execution_count": 53,
      "outputs": [
        {
          "output_type": "stream",
          "name": "stdout",
          "text": [
            "count    6497.000000\n",
            "mean        0.829614\n",
            "std         0.731124\n",
            "min         0.000000\n",
            "25%         0.000000\n",
            "50%         1.000000\n",
            "75%         1.000000\n",
            "max         2.000000\n",
            "Name: new_quality, dtype: float64\n",
            "1.0    2836\n",
            "0.0    2384\n",
            "2.0    1277\n",
            "Name: new_quality, dtype: int64\n"
          ]
        }
      ]
    },
    {
      "cell_type": "markdown",
      "source": [
        "loc 예제 🌼"
      ],
      "metadata": {
        "id": "fkjCWGoeEa4h"
      }
    },
    {
      "cell_type": "code",
      "source": [
        "data = [['Apple', 11], ['Banana', 23], ['Coconut', 35]]\n",
        "df = pd.DataFrame(data, columns=['Fruit', 'Count'])\n",
        "print(df)\n",
        "print()\n",
        "print(df.loc[0])\n",
        "print()\n",
        "print(df.loc[0, 'Fruit'])"
      ],
      "metadata": {
        "colab": {
          "base_uri": "https://localhost:8080/"
        },
        "id": "rXgm7bo8DEEg",
        "outputId": "dc5ab936-9970-4e51-c3a0-ff1c6558f24a"
      },
      "execution_count": 40,
      "outputs": [
        {
          "output_type": "stream",
          "name": "stdout",
          "text": [
            "     Fruit  Count\n",
            "0    Apple     11\n",
            "1   Banana     23\n",
            "2  Coconut     35\n",
            "\n",
            "Fruit    Apple\n",
            "Count       11\n",
            "Name: 0, dtype: object\n",
            "\n",
            "Apple\n"
          ]
        }
      ]
    },
    {
      "cell_type": "code",
      "source": [
        "# 데이터 정규화 및 훈련 데이터와 테스트 데이터 분리\n",
        "del wine['quality'] # 기존 품질 속성 삭제\n",
        "wine_norm = (wine-wine.min()) / (wine.max() - wine.min())\n",
        "wine_shuffle = wine_norm.sample(frac=1)\n",
        "wine_np = wine_shuffle.to_numpy()\n",
        "\n",
        "train_idx = int(len(wine_np) * 0.8)\n",
        "train_X, train_Y = wine_np[:train_idx, :-1], wine_np[:train_idx, -1]\n",
        "test_X, test_Y = wine_np[train_idx:, :-1], wine_np[train_idx:, -1]\n",
        "train_Y = tf.keras.utils.to_categorical(train_Y, num_classes=3)\n",
        "test_Y = tf.keras.utils.to_categorical(test_Y, num_classes=3)"
      ],
      "metadata": {
        "id": "yRneA-pUG_zz"
      },
      "execution_count": 54,
      "outputs": []
    },
    {
      "cell_type": "code",
      "source": [
        "# 와인 데이터셋 다항 분류 모델 생성 및 학습\n",
        "model = tf.keras.Sequential([\n",
        "    tf.keras.layers.Dense(units=48, activation='relu', input_shape=(12,)),\n",
        "    tf.keras.layers.Dense(units=24, activation='relu'),     \n",
        "    tf.keras.layers.Dense(units=12, activation='relu'),                  \n",
        "    tf.keras.layers.Dense(units=3, activation='softmax')\n",
        "])\n",
        "\n",
        "model.compile(optimizer=tf.keras.optimizers.Adam(learning_rate=0.07), loss='categorical_crossentropy', metrics=['accuracy'])\n",
        "\n",
        "history = model.fit(train_X, train_Y, epochs=25, batch_size=32, validation_split=0.25)"
      ],
      "metadata": {
        "colab": {
          "base_uri": "https://localhost:8080/"
        },
        "id": "kE5C8QL9IbIU",
        "outputId": "bf4c2108-facc-4252-c645-6225c6075ead"
      },
      "execution_count": 57,
      "outputs": [
        {
          "output_type": "stream",
          "name": "stdout",
          "text": [
            "Epoch 1/25\n",
            "122/122 [==============================] - 1s 4ms/step - loss: 0.4727 - accuracy: 0.7809 - val_loss: 0.3921 - val_accuracy: 0.8315\n",
            "Epoch 2/25\n",
            "122/122 [==============================] - 0s 3ms/step - loss: 0.4495 - accuracy: 0.7888 - val_loss: 0.3956 - val_accuracy: 0.8315\n",
            "Epoch 3/25\n",
            "122/122 [==============================] - 0s 2ms/step - loss: 0.4264 - accuracy: 0.7911 - val_loss: 0.4972 - val_accuracy: 0.7277\n",
            "Epoch 4/25\n",
            "122/122 [==============================] - 0s 3ms/step - loss: 0.4387 - accuracy: 0.7880 - val_loss: 0.3851 - val_accuracy: 0.8315\n",
            "Epoch 5/25\n",
            "122/122 [==============================] - 0s 2ms/step - loss: 0.4229 - accuracy: 0.7975 - val_loss: 0.3937 - val_accuracy: 0.7946\n",
            "Epoch 6/25\n",
            "122/122 [==============================] - 0s 2ms/step - loss: 0.4234 - accuracy: 0.7914 - val_loss: 0.3769 - val_accuracy: 0.8315\n",
            "Epoch 7/25\n",
            "122/122 [==============================] - 0s 2ms/step - loss: 0.4129 - accuracy: 0.7965 - val_loss: 0.4085 - val_accuracy: 0.8315\n",
            "Epoch 8/25\n",
            "122/122 [==============================] - 0s 2ms/step - loss: 0.4229 - accuracy: 0.7880 - val_loss: 0.3779 - val_accuracy: 0.8246\n",
            "Epoch 9/25\n",
            "122/122 [==============================] - 0s 2ms/step - loss: 0.4113 - accuracy: 0.7865 - val_loss: 0.3796 - val_accuracy: 0.8169\n",
            "Epoch 10/25\n",
            "122/122 [==============================] - 0s 3ms/step - loss: 0.4156 - accuracy: 0.7904 - val_loss: 0.3754 - val_accuracy: 0.8246\n",
            "Epoch 11/25\n",
            "122/122 [==============================] - 0s 2ms/step - loss: 0.4151 - accuracy: 0.8040 - val_loss: 0.3839 - val_accuracy: 0.8315\n",
            "Epoch 12/25\n",
            "122/122 [==============================] - 0s 2ms/step - loss: 0.4163 - accuracy: 0.7988 - val_loss: 0.3748 - val_accuracy: 0.8331\n",
            "Epoch 13/25\n",
            "122/122 [==============================] - 0s 3ms/step - loss: 0.4159 - accuracy: 0.8014 - val_loss: 0.3792 - val_accuracy: 0.8315\n",
            "Epoch 14/25\n",
            "122/122 [==============================] - 0s 2ms/step - loss: 0.4055 - accuracy: 0.8040 - val_loss: 0.4114 - val_accuracy: 0.8015\n",
            "Epoch 15/25\n",
            "122/122 [==============================] - 0s 2ms/step - loss: 0.4148 - accuracy: 0.8004 - val_loss: 0.3747 - val_accuracy: 0.8215\n",
            "Epoch 16/25\n",
            "122/122 [==============================] - 0s 2ms/step - loss: 0.4143 - accuracy: 0.8032 - val_loss: 0.3872 - val_accuracy: 0.8308\n",
            "Epoch 17/25\n",
            "122/122 [==============================] - 0s 2ms/step - loss: 0.4020 - accuracy: 0.8106 - val_loss: 0.3719 - val_accuracy: 0.8223\n",
            "Epoch 18/25\n",
            "122/122 [==============================] - 0s 2ms/step - loss: 0.4005 - accuracy: 0.8034 - val_loss: 0.3759 - val_accuracy: 0.8169\n",
            "Epoch 19/25\n",
            "122/122 [==============================] - 0s 2ms/step - loss: 0.4064 - accuracy: 0.8016 - val_loss: 0.3788 - val_accuracy: 0.8162\n",
            "Epoch 20/25\n",
            "122/122 [==============================] - 0s 2ms/step - loss: 0.4074 - accuracy: 0.7924 - val_loss: 0.3710 - val_accuracy: 0.8246\n",
            "Epoch 21/25\n",
            "122/122 [==============================] - 0s 2ms/step - loss: 0.4070 - accuracy: 0.7942 - val_loss: 0.3869 - val_accuracy: 0.8315\n",
            "Epoch 22/25\n",
            "122/122 [==============================] - 0s 2ms/step - loss: 0.4118 - accuracy: 0.7929 - val_loss: 0.3780 - val_accuracy: 0.8123\n",
            "Epoch 23/25\n",
            "122/122 [==============================] - 0s 2ms/step - loss: 0.4002 - accuracy: 0.8040 - val_loss: 0.3876 - val_accuracy: 0.8285\n",
            "Epoch 24/25\n",
            "122/122 [==============================] - 0s 2ms/step - loss: 0.4057 - accuracy: 0.7993 - val_loss: 0.3696 - val_accuracy: 0.8315\n",
            "Epoch 25/25\n",
            "122/122 [==============================] - 0s 2ms/step - loss: 0.4010 - accuracy: 0.8022 - val_loss: 0.3887 - val_accuracy: 0.8131\n"
          ]
        }
      ]
    },
    {
      "cell_type": "code",
      "source": [
        "# 다항 분류 모델 학습 결과 시각화\n",
        "import matplotlib.pyplot as plt\n",
        "plt.figure(figsize=(12, 4))\n",
        "\n",
        "plt.subplot(1, 2, 1)\n",
        "plt.plot(history.history['loss'], 'b-', label='loss')\n",
        "plt.plot(history.history['val_loss'], 'r--', label='val_loss')\n",
        "plt.xlabel('Epoch')\n",
        "plt.legend()\n",
        "\n",
        "plt.subplot(1, 2, 2)\n",
        "plt.plot(history.history['accuracy'], 'g-', label='accuracy')\n",
        "plt.plot(history.history['val_accuracy'], 'k--', label='val_accuracy')\n",
        "plt.xlabel('Epoch')\n",
        "plt.ylim(0.7, 1)\n",
        "plt.legend()\n",
        "\n",
        "plt.show()"
      ],
      "metadata": {
        "colab": {
          "base_uri": "https://localhost:8080/",
          "height": 283
        },
        "id": "UXbJAounLd_5",
        "outputId": "b9bfbb40-8c6c-43a8-979a-edf354e77aa1"
      },
      "execution_count": 58,
      "outputs": [
        {
          "output_type": "display_data",
          "data": {
            "text/plain": [
              "<Figure size 864x288 with 2 Axes>"
            ],
            "image/png": "[encoded data removed]"
          },
          "metadata": {
            "needs_background": "light"
          }
        }
      ]
    },
    {
      "cell_type": "markdown",
      "source": [
        "홀리..\n",
        "\n",
        "loss가 꾸준히 작아지긴하나, val_loss가 더 작고\n",
        "\n",
        "val_acurracy도 accuracy보다 크다 ㅋㅋ?\n",
        "\n",
        "할 게 많아서 일단 넘어갔다"
      ],
      "metadata": {
        "id": "36qgQ358Np8y"
      }
    },
    {
      "cell_type": "code",
      "source": [
        "# 다항 분류 모델 평가\n",
        "model.evaluate(test_X, test_Y)"
      ],
      "metadata": {
        "colab": {
          "base_uri": "https://localhost:8080/"
        },
        "id": "m0p47oWAPTEe",
        "outputId": "1a55589c-f590-4ea2-92a2-5396e12dcf5c"
      },
      "execution_count": 59,
      "outputs": [
        {
          "output_type": "stream",
          "name": "stdout",
          "text": [
            "41/41 [==============================] - 0s 3ms/step - loss: 0.3901 - accuracy: 0.8285\n"
          ]
        },
        {
          "output_type": "execute_result",
          "data": {
            "text/plain": [
              "[0.3901008367538452, 0.8284615278244019]"
            ]
          },
          "metadata": {},
          "execution_count": 59
        }
      ]
    },
    {
      "cell_type": "markdown",
      "source": [
        "정확도는 82.85% 나왔다\n",
        "\n"
      ],
      "metadata": {
        "id": "HcvAhfgNPd0m"
      }
    },
    {
      "cell_type": "markdown",
      "source": [
        "## **5.3 Fashion MNIST**"
      ],
      "metadata": {
        "id": "qc9cXUo3QYqP"
      }
    },
    {
      "cell_type": "code",
      "source": [
        "# Fashion MNIST 데이터세트 불러오기\n",
        "fashion_mnist = tf.keras.datasets.fashion_mnist\n",
        "(train_X, train_Y), (test_X, test_Y) = fashion_mnist.load_data()\n",
        "\n",
        "print(len(train_X), len(test_X))"
      ],
      "metadata": {
        "colab": {
          "base_uri": "https://localhost:8080/"
        },
        "id": "GJjwAxzHTbV4",
        "outputId": "a3ea2a6a-d031-4fab-88f4-bdba8e4175f4"
      },
      "execution_count": 64,
      "outputs": [
        {
          "output_type": "stream",
          "name": "stdout",
          "text": [
            "Downloading data from https://storage.googleapis.com/tensorflow/tf-keras-datasets/train-labels-idx1-ubyte.gz\n",
            "32768/29515 [=================================] - 0s 0us/step\n",
            "40960/29515 [=========================================] - 0s 0us/step\n",
            "Downloading data from https://storage.googleapis.com/tensorflow/tf-keras-datasets/train-images-idx3-ubyte.gz\n",
            "26427392/26421880 [==============================] - 0s 0us/step\n",
            "26435584/26421880 [==============================] - 0s 0us/step\n",
            "Downloading data from https://storage.googleapis.com/tensorflow/tf-keras-datasets/t10k-labels-idx1-ubyte.gz\n",
            "16384/5148 [===============================================================================================] - 0s 0us/step\n",
            "Downloading data from https://storage.googleapis.com/tensorflow/tf-keras-datasets/t10k-images-idx3-ubyte.gz\n",
            "4423680/4422102 [==============================] - 0s 0us/step\n",
            "4431872/4422102 [==============================] - 0s 0us/step\n",
            "60000 10000\n"
          ]
        }
      ]
    },
    {
      "cell_type": "markdown",
      "source": [
        "훈련 데이터 6만 장, 테스트 데이터 만 장의 이미지"
      ],
      "metadata": {
        "id": "hLo3_s20U_Kn"
      }
    },
    {
      "cell_type": "code",
      "source": [
        "# 데이터 확인\n",
        "import matplotlib.pyplot as plt\n",
        "plt.imshow(train_X[0], cmap='gray')\n",
        "plt.colorbar() # gray(255) bar\n",
        "plt.show()\n",
        "\n",
        "print(train_Y[0])"
      ],
      "metadata": {
        "colab": {
          "base_uri": "https://localhost:8080/",
          "height": 283
        },
        "id": "xgTv089vVVjx",
        "outputId": "c507c96c-f4ae-4286-bb6f-51ef0ce91532"
      },
      "execution_count": 65,
      "outputs": [
        {
          "output_type": "display_data",
          "data": {
            "text/plain": [
              "<Figure size 432x288 with 2 Axes>"
            ],
            "image/png": "[encoded data removed]"
          },
          "metadata": {
            "needs_background": "light"
          }
        },
        {
          "output_type": "stream",
          "name": "stdout",
          "text": [
            "9\n"
          ]
        }
      ]
    },
    {
      "cell_type": "markdown",
      "source": [
        "회색 도시 속 그녀가 신은 민트색 nike shoes~"
      ],
      "metadata": {
        "id": "-trf5mtTV6Zi"
      }
    },
    {
      "cell_type": "code",
      "source": [
        "# 데이터 정규화\n",
        "train_X = train_X / 255.0 # min 0, max 255\n",
        "test_X = test_X / 255.0\n",
        "\n",
        "#print(train_X[0])"
      ],
      "metadata": {
        "id": "nE6-6NbmV5Ti"
      },
      "execution_count": 66,
      "outputs": []
    },
    {
      "cell_type": "markdown",
      "source": [
        "train_Y = tf.keras.utils.to_categorical(train_Y, num_classes=3)\n",
        "\n",
        "test_Y = tf.keras.utils.to_categorical(test_Y, num_classes=3)\n",
        "\n",
        "같이 원-핫 인코딩을 안하는 이유?\n",
        "\n",
        "메모리 낭비"
      ],
      "metadata": {
        "id": "XTc0QSGrXF-w"
      }
    },
    {
      "cell_type": "code",
      "source": [
        "# Fashion MNIST 분류 모델\n",
        "model = tf.keras.Sequential([\n",
        "    tf.keras.layers.Flatten(input_shape=(28,28)),                         \n",
        "    tf.keras.layers.Dense(units=128, activation='relu'),\n",
        "    tf.keras.layers.Dense(units=10, activation='softmax')\n",
        "])\n",
        "\n",
        "model.compile(optimizer=tf.keras.optimizers.Adam(),\n",
        "              loss='sparse_categorical_crossentropy',\n",
        "              metrics=['accuracy'])\n",
        "\n",
        "model.summary()"
      ],
      "metadata": {
        "colab": {
          "base_uri": "https://localhost:8080/"
        },
        "id": "DvcwnZ44WgAX",
        "outputId": "141c33db-ab8d-4128-e499-25ed783468ef"
      },
      "execution_count": 67,
      "outputs": [
        {
          "output_type": "stream",
          "name": "stdout",
          "text": [
            "Model: \"sequential_13\"\n",
            "_________________________________________________________________\n",
            " Layer (type)                Output Shape              Param #   \n",
            "=================================================================\n",
            " flatten (Flatten)           (None, 784)               0         \n",
            "                                                                 \n",
            " dense_52 (Dense)            (None, 128)               100480    \n",
            "                                                                 \n",
            " dense_53 (Dense)            (None, 10)                1290      \n",
            "                                                                 \n",
            "=================================================================\n",
            "Total params: 101,770\n",
            "Trainable params: 101,770\n",
            "Non-trainable params: 0\n",
            "_________________________________________________________________\n"
          ]
        }
      ]
    },
    {
      "cell_type": "markdown",
      "source": [
        "원-핫 인코딩이 아닌 정답 행렬을 처리하기 위해 바뀐 부분\n",
        "\n",
        "loss='sparse_categorial_crossentropy'\n",
        "\n",
        "별도의 데이터 전처리 없이 희소 행렬을 나타내는 데이터를\n",
        "\n",
        "정답 행렬로 사용할 수 있다"
      ],
      "metadata": {
        "id": "eytVfW_CYDbS"
      }
    },
    {
      "cell_type": "markdown",
      "source": [
        "원본이 28x28의 2차원 array이기 때문에 데이터를 일렬로 정렬하는\n",
        "\n",
        "Flatten 레이어를 사용한다 (다차원 데이터 -> 1차원 정렬)"
      ],
      "metadata": {
        "id": "iKFYsMtOYijT"
      }
    },
    {
      "cell_type": "code",
      "source": [
        "# Fashion MNIST 분류 모델 학습\n",
        "history = model.fit(train_X, train_Y, epochs=25, validation_split=0.25)"
      ],
      "metadata": {
        "colab": {
          "base_uri": "https://localhost:8080/"
        },
        "id": "XfvqoOZHZG_H",
        "outputId": "f03b9bc5-37a6-4d49-a457-52a893054ab3"
      },
      "execution_count": 68,
      "outputs": [
        {
          "output_type": "stream",
          "name": "stdout",
          "text": [
            "Epoch 1/25\n",
            "1407/1407 [==============================] - 12s 8ms/step - loss: 0.5358 - accuracy: 0.8118 - val_loss: 0.4235 - val_accuracy: 0.8495\n",
            "Epoch 2/25\n",
            "1407/1407 [==============================] - 7s 5ms/step - loss: 0.3937 - accuracy: 0.8595 - val_loss: 0.3941 - val_accuracy: 0.8541\n",
            "Epoch 3/25\n",
            "1407/1407 [==============================] - 7s 5ms/step - loss: 0.3537 - accuracy: 0.8706 - val_loss: 0.3587 - val_accuracy: 0.8689\n",
            "Epoch 4/25\n",
            "1407/1407 [==============================] - 11s 8ms/step - loss: 0.3241 - accuracy: 0.8817 - val_loss: 0.3578 - val_accuracy: 0.8722\n",
            "Epoch 5/25\n",
            "1407/1407 [==============================] - 9s 6ms/step - loss: 0.3027 - accuracy: 0.8888 - val_loss: 0.3327 - val_accuracy: 0.8800\n",
            "Epoch 6/25\n",
            "1407/1407 [==============================] - 7s 5ms/step - loss: 0.2878 - accuracy: 0.8938 - val_loss: 0.3442 - val_accuracy: 0.8805\n",
            "Epoch 7/25\n",
            "1407/1407 [==============================] - 9s 6ms/step - loss: 0.2752 - accuracy: 0.8988 - val_loss: 0.3365 - val_accuracy: 0.8807\n",
            "Epoch 8/25\n",
            "1407/1407 [==============================] - 9s 7ms/step - loss: 0.2632 - accuracy: 0.9030 - val_loss: 0.3136 - val_accuracy: 0.8867\n",
            "Epoch 9/25\n",
            "1407/1407 [==============================] - 9s 7ms/step - loss: 0.2508 - accuracy: 0.9062 - val_loss: 0.3329 - val_accuracy: 0.8821\n",
            "Epoch 10/25\n",
            "1407/1407 [==============================] - 9s 6ms/step - loss: 0.2423 - accuracy: 0.9106 - val_loss: 0.3386 - val_accuracy: 0.8799\n",
            "Epoch 11/25\n",
            "1407/1407 [==============================] - 8s 6ms/step - loss: 0.2333 - accuracy: 0.9126 - val_loss: 0.3150 - val_accuracy: 0.8869\n",
            "Epoch 12/25\n",
            "1407/1407 [==============================] - 9s 6ms/step - loss: 0.2255 - accuracy: 0.9158 - val_loss: 0.3201 - val_accuracy: 0.8877\n",
            "Epoch 13/25\n",
            "1407/1407 [==============================] - 8s 5ms/step - loss: 0.2176 - accuracy: 0.9181 - val_loss: 0.3248 - val_accuracy: 0.8884\n",
            "Epoch 14/25\n",
            "1407/1407 [==============================] - 8s 6ms/step - loss: 0.2104 - accuracy: 0.9210 - val_loss: 0.3441 - val_accuracy: 0.8844\n",
            "Epoch 15/25\n",
            "1407/1407 [==============================] - 9s 6ms/step - loss: 0.2033 - accuracy: 0.9258 - val_loss: 0.3246 - val_accuracy: 0.8880\n",
            "Epoch 16/25\n",
            "1407/1407 [==============================] - 8s 6ms/step - loss: 0.1972 - accuracy: 0.9254 - val_loss: 0.3369 - val_accuracy: 0.8874\n",
            "Epoch 17/25\n",
            "1407/1407 [==============================] - 8s 6ms/step - loss: 0.1906 - accuracy: 0.9293 - val_loss: 0.3302 - val_accuracy: 0.8889\n",
            "Epoch 18/25\n",
            "1407/1407 [==============================] - 11s 8ms/step - loss: 0.1845 - accuracy: 0.9298 - val_loss: 0.3397 - val_accuracy: 0.8901\n",
            "Epoch 19/25\n",
            "1407/1407 [==============================] - 8s 6ms/step - loss: 0.1791 - accuracy: 0.9335 - val_loss: 0.3618 - val_accuracy: 0.8817\n",
            "Epoch 20/25\n",
            "1407/1407 [==============================] - 9s 6ms/step - loss: 0.1745 - accuracy: 0.9348 - val_loss: 0.3561 - val_accuracy: 0.8831\n",
            "Epoch 21/25\n",
            "1407/1407 [==============================] - 5s 4ms/step - loss: 0.1702 - accuracy: 0.9355 - val_loss: 0.3443 - val_accuracy: 0.8892\n",
            "Epoch 22/25\n",
            "1407/1407 [==============================] - 7s 5ms/step - loss: 0.1667 - accuracy: 0.9377 - val_loss: 0.3456 - val_accuracy: 0.8895\n",
            "Epoch 23/25\n",
            "1407/1407 [==============================] - 9s 6ms/step - loss: 0.1607 - accuracy: 0.9405 - val_loss: 0.3548 - val_accuracy: 0.8897\n",
            "Epoch 24/25\n",
            "1407/1407 [==============================] - 8s 6ms/step - loss: 0.1566 - accuracy: 0.9408 - val_loss: 0.3459 - val_accuracy: 0.8936\n",
            "Epoch 25/25\n",
            "1407/1407 [==============================] - 6s 4ms/step - loss: 0.1537 - accuracy: 0.9430 - val_loss: 0.3661 - val_accuracy: 0.8888\n"
          ]
        }
      ]
    },
    {
      "cell_type": "code",
      "source": [
        "# Fashion MNIST 분류 모델의 학습 결과 시각화\n",
        "import matplotlib.pyplot as plt\n",
        "plt.figure(figsize=(12,4))\n",
        "\n",
        "plt.subplot(1,2,1)\n",
        "plt.plot(history.history['loss'], 'b-', label='loss')\n",
        "plt.plot(history.history['val_loss'], 'r--', label='val_loss')\n",
        "plt.xlabel('Epoch')\n",
        "plt.legend()\n",
        "\n",
        "plt.subplot(1,2,2)\n",
        "plt.plot(history.history['accuracy'], 'g-', label='accuracy')\n",
        "plt.plot(history.history['val_accuracy'], 'k--', label='val_accuracy')\n",
        "plt.xlabel('Epoch')\n",
        "plt.ylim(0.7, 1)\n",
        "plt.legend()\n",
        "\n",
        "plt.show()"
      ],
      "metadata": {
        "colab": {
          "base_uri": "https://localhost:8080/",
          "height": 283
        },
        "id": "CEXmR-r1ZGU1",
        "outputId": "bf26acdf-ea2d-46fc-dcca-6514ba78bd0d"
      },
      "execution_count": 71,
      "outputs": [
        {
          "output_type": "display_data",
          "data": {
            "text/plain": [
              "<Figure size 864x288 with 2 Axes>"
            ],
            "image/png": "[encoded data removed]"
          },
          "metadata": {
            "needs_background": "light"
          }
        }
      ]
    },
    {
      "cell_type": "markdown",
      "source": [
        "검증 데이터의 손실이 감소하다가 시간이 지날수록\n",
        "\n",
        "서서히 증가하는 과적합 현상을 확인할 수 있다\n",
        "\n",
        "Therefore, tf.keras.callbacks.EarlyStopping 사용하면 된다"
      ],
      "metadata": {
        "id": "lWR0EhqwaZz-"
      }
    }
  ]
}